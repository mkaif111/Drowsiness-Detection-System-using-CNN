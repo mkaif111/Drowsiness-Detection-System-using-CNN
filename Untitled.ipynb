{
 "cells": [
  {
   "cell_type": "code",
   "execution_count": 6,
   "metadata": {},
   "outputs": [],
   "source": [
    "import numpy as np\n",
    "import cv2\n",
    "import os\n"
   ]
  },
  {
   "cell_type": "code",
   "execution_count": 3,
   "metadata": {},
   "outputs": [],
   "source": [
    "face_cascade = cv2.CascadeClassifier(\"data/haarcascade_frontalface_alt.xml\")"
   ]
  },
  {
   "cell_type": "code",
   "execution_count": 11,
   "metadata": {},
   "outputs": [],
   "source": [
    "# cap = cv2.VideoCapture(0)\n",
    "\n",
    "# while (True):\n",
    "#     ret, frame = cap.read()\n",
    "#     gray = cv2.cvtColor(frame, cv2.COLOR_BGR2GRAY)\n",
    "#     faces = face_cascade.detectMultiScale(gray, scaleFactor = 1.2, minNeighbors = 7)\n",
    "#     for (x,y,w,h) in faces:\n",
    "# #         print(x,y,w,h)\n",
    "#         roi_image = frame[y:y+h,x:x+w]\n",
    "#         color = (0,45,255)\n",
    "#         stroke = 2\n",
    "#         end_x = x+w\n",
    "#         end_y = y+h\n",
    "#         cv2.rectangle(frame, (x,y), (end_x,end_y), color, stroke)\n",
    "#     cv2.imshow('frame', frame )\n",
    "#     if cv2.waitKey(1) & 0xFF == ord('q'):\n",
    "#         break\n",
    "# cap.release()\n",
    "# cv2.destroyAllWindows()\n"
   ]
  },
  {
   "cell_type": "code",
   "execution_count": null,
   "metadata": {},
   "outputs": [],
   "source": [
    "def extract_faces(image, name):\n",
    "    frame = cv2.imread(image)\n",
    "    gray = cv2.cvtColor(frame, cv2.COLOR_BGR2GRAY)\n",
    "    faces = face_cascade.detectMultiScale(gray, scaleFactor = 1.2, minNeighbors = 7)\n",
    "    for (x,y,w,h) in faces:\n",
    "#         print(x,y,w,h)\n",
    "        roi_image = frame[y:y+h,x:x+w]\n",
    "        color = (0,45,255)\n",
    "        stroke = 2\n",
    "        end_x = x+w\n",
    "        end_y = y+h\n",
    "        cv2.rectangle(frame, (x,y), (end_x,end_y), color, stroke)"
   ]
  }
 ],
 "metadata": {
  "kernelspec": {
   "display_name": "Python 3",
   "language": "python",
   "name": "python3"
  },
  "language_info": {
   "codemirror_mode": {
    "name": "ipython",
    "version": 3
   },
   "file_extension": ".py",
   "mimetype": "text/x-python",
   "name": "python",
   "nbconvert_exporter": "python",
   "pygments_lexer": "ipython3",
   "version": "3.7.6"
  }
 },
 "nbformat": 4,
 "nbformat_minor": 4
}
