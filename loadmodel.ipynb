{
 "cells": [
  {
   "cell_type": "code",
   "execution_count": 2,
   "metadata": {},
   "outputs": [],
   "source": [
    "import tensorflow as tf\n",
    "import cv2\n",
    "import matplotlib.pyplot as plt\n",
    "import numpy as np\n",
    "import winsound"
   ]
  },
  {
   "cell_type": "code",
   "execution_count": 8,
   "metadata": {},
   "outputs": [
    {
     "name": "stdout",
     "output_type": "stream",
     "text": [
      "(None, 150, 150, 3)\n"
     ]
    }
   ],
   "source": [
    "labels = [\"drowsiness\" , \"undrowsiness\"]\n",
    "model = tf.keras.models.load_model('model_30Nov_15epoch.h5')\n",
    "print(model.input.shape)"
   ]
  },
  {
   "cell_type": "code",
   "execution_count": 9,
   "metadata": {},
   "outputs": [
    {
     "name": "stdout",
     "output_type": "stream",
     "text": [
      "Model: \"sequential_1\"\n",
      "_________________________________________________________________\n",
      "Layer (type)                 Output Shape              Param #   \n",
      "=================================================================\n",
      "conv2d_4 (Conv2D)            (None, 148, 148, 32)      896       \n",
      "_________________________________________________________________\n",
      "max_pooling2d_4 (MaxPooling2 (None, 74, 74, 32)        0         \n",
      "_________________________________________________________________\n",
      "conv2d_5 (Conv2D)            (None, 72, 72, 64)        18496     \n",
      "_________________________________________________________________\n",
      "max_pooling2d_5 (MaxPooling2 (None, 36, 36, 64)        0         \n",
      "_________________________________________________________________\n",
      "conv2d_6 (Conv2D)            (None, 34, 34, 128)       73856     \n",
      "_________________________________________________________________\n",
      "max_pooling2d_6 (MaxPooling2 (None, 17, 17, 128)       0         \n",
      "_________________________________________________________________\n",
      "conv2d_7 (Conv2D)            (None, 15, 15, 128)       147584    \n",
      "_________________________________________________________________\n",
      "max_pooling2d_7 (MaxPooling2 (None, 7, 7, 128)         0         \n",
      "_________________________________________________________________\n",
      "flatten_1 (Flatten)          (None, 6272)              0         \n",
      "_________________________________________________________________\n",
      "dense_2 (Dense)              (None, 512)               3211776   \n",
      "_________________________________________________________________\n",
      "dropout_1 (Dropout)          (None, 512)               0         \n",
      "_________________________________________________________________\n",
      "dense_3 (Dense)              (None, 1)                 513       \n",
      "=================================================================\n",
      "Total params: 3,453,121\n",
      "Trainable params: 3,453,121\n",
      "Non-trainable params: 0\n",
      "_________________________________________________________________\n"
     ]
    }
   ],
   "source": [
    "model.summary()"
   ]
  },
  {
   "cell_type": "code",
   "execution_count": 10,
   "metadata": {},
   "outputs": [],
   "source": [
    "def get_label_index(pre):\n",
    "    if pre[0][0] > 0.5:\n",
    "        return 1\n",
    "    else:\n",
    "        return 0"
   ]
  },
  {
   "cell_type": "code",
   "execution_count": 27,
   "metadata": {},
   "outputs": [
    {
     "name": "stdout",
     "output_type": "stream",
     "text": [
      "1 [[1.]]\n",
      "1 [[1.]]\n",
      "1 [[1.]]\n",
      "1 [[1.]]\n",
      "1 [[1.]]\n",
      "1 [[1.]]\n",
      "1 [[1.]]\n"
     ]
    }
   ],
   "source": [
    "frequency = 2500\n",
    "duration = 5000  \n",
    "# winsound.Beep(frequency, duration)\n",
    "cap = cv2.VideoCapture(\"test/video/ariz.mp4\")\n",
    "label = \"Testing\"\n",
    "TRACKER = []\n",
    "count = 0\n",
    "size = 150\n",
    "count = 0\n",
    "labels = [\"drowsiness\" , \"undrowsiness\"]\n",
    "face_cascade = cv2.CascadeClassifier(\"haarcascade/haarcascade_frontalface_alt.xml\")\n",
    "while(True):\n",
    "    # Capture frame-by-frame\n",
    "    ret, frame = cap.read()\n",
    "#     frame = cv2.rotate(frame, cv2.cv2.ROTATE_90_COUNTERCLOCKWISE)\n",
    "    width,height,layer = frame.shape\n",
    "    \n",
    "    # Our operations on the frame come here\n",
    "#     frame = cv2.fastNlMeansDenoisingColored(frame,None,10,10,7,11)\n",
    "    gray = cv2.cvtColor(frame, cv2.COLOR_BGR2GRAY)\n",
    "    \n",
    "    faces = face_cascade.detectMultiScale(gray, scaleFactor = 1.1, minNeighbors = 5,minSize = (30,30))\n",
    "    for (x,y,w,h) in faces:\n",
    "#         print(x,y,w,h)\n",
    "        roi_image = frame[y:y+h,x:x+w]\n",
    "        \n",
    "        roi_image = cv2.resize(roi_image , (size , size))\n",
    "        roi_image = np.array(roi_image,dtype=\"float64\")\n",
    "        roi_image = roi_image.reshape(-1,size,size,3)\n",
    "#         roi_image = np.array(roi_image,dtype=\"float32\")\n",
    "        pre = model.predict([roi_image])\n",
    "    \n",
    "        color = (0,211,255)\n",
    "        stroke = 2\n",
    "        end_x = x+w\n",
    "        end_y = y+h\n",
    "        \n",
    "        cv2.rectangle(frame, (x,y), (end_x,end_y), color, stroke)\n",
    "        label_index = get_label_index(pre)\n",
    "        \n",
    "        TRACKER.append(label_index)\n",
    "        if label == \"drowsiness\":\n",
    "            print(\"sound play\")\n",
    "            winsound.Beep(frequency, duration)\n",
    "            \n",
    "        if len(TRACKER)==24:\n",
    "            total_sum = sum(TRACKER)\n",
    "            avg = total_sum/24\n",
    "            TRACKER.clear()\n",
    "            if avg > 0.5:\n",
    "                label = \"undrowsiness\"\n",
    "            else:\n",
    "                label = \"drowsiness\"\n",
    "                \n",
    "                \n",
    "        print(label_index,pre)\n",
    "\n",
    "    cv2.putText(frame,label, (0,100), cv2.FONT_HERSHEY_SIMPLEX, 3, (0,0,255))\n",
    "    frame = cv2.resize(frame,(800,600))\n",
    "    cv2.imshow('frame',frame)\n",
    "    count+=1\n",
    "    if cv2.waitKey(1) & 0xFF == ord('q'):\n",
    "        break\n",
    "\n",
    "# When everything done, release the capture\n",
    "cap.release()\n",
    "cv2.destroyAllWindows()\n"
   ]
  },
  {
   "cell_type": "code",
   "execution_count": null,
   "metadata": {},
   "outputs": [],
   "source": []
  },
  {
   "cell_type": "code",
   "execution_count": null,
   "metadata": {},
   "outputs": [],
   "source": []
  }
 ],
 "metadata": {
  "kernelspec": {
   "display_name": "Python 3",
   "language": "python",
   "name": "python3"
  },
  "language_info": {
   "codemirror_mode": {
    "name": "ipython",
    "version": 3
   },
   "file_extension": ".py",
   "mimetype": "text/x-python",
   "name": "python",
   "nbconvert_exporter": "python",
   "pygments_lexer": "ipython3",
   "version": "3.7.6"
  }
 },
 "nbformat": 4,
 "nbformat_minor": 4
}
