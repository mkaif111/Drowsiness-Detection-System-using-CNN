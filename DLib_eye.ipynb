{
 "cells": [
  {
   "cell_type": "code",
   "execution_count": 2,
   "metadata": {},
   "outputs": [],
   "source": [
    "import cv2\n",
    "import numpy as np\n",
    "import dlib"
   ]
  },
  {
   "cell_type": "code",
   "execution_count": 5,
   "metadata": {},
   "outputs": [],
   "source": [
    "detector = dlib.get_frontal_face_detector()\n",
    "predictor = dlib.shape_predictor(\"haarcascade/shape_predictor_68_face_landmarks.dat\")\n",
    "def midpoint(p1 ,p2):\n",
    "    return int((p1.x + p2.x)/2), int((p1.y + p2.y)/2)"
   ]
  },
  {
   "cell_type": "code",
   "execution_count": 11,
   "metadata": {},
   "outputs": [
    {
     "name": "stdout",
     "output_type": "stream",
     "text": [
      "(495, 387)\n",
      "(496, 391)\n",
      "(491, 400)\n",
      "(484, 404)\n",
      "(469, 402)\n",
      "(461, 403)\n",
      "(461, 416)\n",
      "(440, 416)\n",
      "(412, 411)\n",
      "(399, 413)\n",
      "(382, 401)\n",
      "(376, 399)\n",
      "(374, 399)\n",
      "(376, 398)\n",
      "(390, 400)\n",
      "(397, 398)\n",
      "(399, 398)\n",
      "(398, 407)\n",
      "(375, 400)\n",
      "(373, 408)\n",
      "(364, 412)\n",
      "(349, 403)\n",
      "(344, 398)\n",
      "(342, 391)\n",
      "(357, 398)\n",
      "(359, 398)\n",
      "(361, 399)\n",
      "(367, 405)\n",
      "(371, 408)\n",
      "(370, 408)\n",
      "(379, 415)\n",
      "(381, 413)\n",
      "(386, 412)\n"
     ]
    }
   ],
   "source": [
    "cap = cv2.VideoCapture('test/video/aslam_drowsiness.mp4')\n",
    "red = (0,0,255)\n",
    "blue = (255,0,0)\n",
    "green = (0,255,0)\n",
    "stroke = 2\n",
    "while True:\n",
    "    ret,frame = cap.read()\n",
    "    \n",
    "    gray = cv2.cvtColor(frame,cv2.COLOR_BGR2GRAY)\n",
    "    faces = detector(gray)\n",
    "    for face in faces:\n",
    "        x,y = face.left(), face.top()\n",
    "        x1,y1 = face.right(), face.bottom()\n",
    "        cv2.rectangle(frame,(x,y),(x1,y1),red,stroke)\n",
    "        landmarks = predictor(gray,face)\n",
    "        left_point_leftEye = (landmarks.part(36).x, landmarks.part(36).y)\n",
    "        right_point_leftEye = (landmarks.part(39).x, landmarks.part(39).y)\n",
    "        center_top_leftEye = midpoint(landmarks.part(37), landmarks.part(38))\n",
    "        center_bottom_leftEye = midpoint(landmarks.part(41), landmarks.part(40))\n",
    "        hor_line_leftEye = cv2.line(frame, left_point_leftEye, right_point_leftEye, (0, 255, 0), 2)\n",
    "        ver_line_leftEye = cv2.line(frame, center_top_leftEye, center_bottom_leftEye, (0, 255, 0), 2)\n",
    "        \n",
    "        \n",
    "#         cv2.rectangle(frame,left_point_leftEye,(x1,y1),red,stroke)\n",
    "        \n",
    "        left_point_rightEye = (landmarks.part(43).x, landmarks.part(43).y)\n",
    "        right_point_rightEye = (landmarks.part(46).x, landmarks.part(46).y)\n",
    "        center_top_rightEye = midpoint(landmarks.part(44), landmarks.part(45))\n",
    "        center_bottom_rightEye = midpoint(landmarks.part(48), landmarks.part(47))\n",
    "        hor_line_rightEye = cv2.line(frame, left_point_rightEye, right_point_rightEye, (0, 255, 0), 2)\n",
    "        ver_line_rightEye = cv2.line(frame, center_top_rightEye, center_bottom_rightEye, (0, 255, 0), 2)\n",
    "#         cv2.rectangle(frame,left_point_leftEye,right_point_rightEye,green,stroke)\n",
    "        \n",
    "        \n",
    "        print(landmarks.part(36))\n",
    "    cv2.imshow(\"frame\",frame)\n",
    "    \n",
    "    key = cv2.waitKey(1)\n",
    "    if key == 27:\n",
    "        break\n",
    "cap.release()\n",
    "cv2.destroyAllWindows()"
   ]
  },
  {
   "cell_type": "code",
   "execution_count": null,
   "metadata": {},
   "outputs": [],
   "source": []
  }
 ],
 "metadata": {
  "kernelspec": {
   "display_name": "Python 3",
   "language": "python",
   "name": "python3"
  },
  "language_info": {
   "codemirror_mode": {
    "name": "ipython",
    "version": 3
   },
   "file_extension": ".py",
   "mimetype": "text/x-python",
   "name": "python",
   "nbconvert_exporter": "python",
   "pygments_lexer": "ipython3",
   "version": "3.7.6"
  }
 },
 "nbformat": 4,
 "nbformat_minor": 4
}
